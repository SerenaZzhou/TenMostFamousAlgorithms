{
 "cells": [
  {
   "cell_type": "code",
   "execution_count": 1,
   "metadata": {
    "collapsed": true
   },
   "outputs": [],
   "source": [
    "#Decision Trees are excellent tools for data inspection"
   ]
  },
  {
   "cell_type": "code",
   "execution_count": 3,
   "metadata": {
    "collapsed": true
   },
   "outputs": [],
   "source": [
    "#Data preparation"
   ]
  },
  {
   "cell_type": "code",
   "execution_count": 6,
   "metadata": {
    "collapsed": true
   },
   "outputs": [],
   "source": [
    "Data<-read.csv(\"http://archive.ics.uci.edu/ml/machine-learning-databases/adult/adult.data\",header=F)#import"
   ]
  },
  {
   "cell_type": "code",
   "execution_count": 7,
   "metadata": {
    "collapsed": true
   },
   "outputs": [],
   "source": [
    "names(Data)<-c(\"age\",\"workclass\",\"fnlwgt\",\"education\", \"educationnum\", \"maritalstatus\", \"occupation\", \"relationship\", \"race\", \"sex\", \"capitalgain\", \"capitalloss\", \n",
    "               \"hoursperweek\", \"nativecountry\", \"response\")#assign names for columns"
   ]
  },
  {
   "cell_type": "code",
   "execution_count": 8,
   "metadata": {
    "collapsed": false
   },
   "outputs": [
    {
     "name": "stdout",
     "output_type": "stream",
     "text": [
      "'data.frame':\t32561 obs. of  15 variables:\n",
      " $ age          : int  39 50 38 53 28 37 49 52 31 42 ...\n",
      " $ workclass    : Factor w/ 9 levels \" ?\",\" Federal-gov\",..: 8 7 5 5 5 5 5 7 5 5 ...\n",
      " $ fnlwgt       : int  77516 83311 215646 234721 338409 284582 160187 209642 45781 159449 ...\n",
      " $ education    : Factor w/ 16 levels \" 10th\",\" 11th\",..: 10 10 12 2 10 13 7 12 13 10 ...\n",
      " $ educationnum : int  13 13 9 7 13 14 5 9 14 13 ...\n",
      " $ maritalstatus: Factor w/ 7 levels \" Divorced\",\" Married-AF-spouse\",..: 5 3 1 3 3 3 4 3 5 3 ...\n",
      " $ occupation   : Factor w/ 15 levels \" ?\",\" Adm-clerical\",..: 2 5 7 7 11 5 9 5 11 5 ...\n",
      " $ relationship : Factor w/ 6 levels \" Husband\",\" Not-in-family\",..: 2 1 2 1 6 6 2 1 2 1 ...\n",
      " $ race         : Factor w/ 5 levels \" Amer-Indian-Eskimo\",..: 5 5 5 3 3 5 3 5 5 5 ...\n",
      " $ sex          : Factor w/ 2 levels \" Female\",\" Male\": 2 2 2 2 1 1 1 2 1 2 ...\n",
      " $ capitalgain  : int  2174 0 0 0 0 0 0 0 14084 5178 ...\n",
      " $ capitalloss  : int  0 0 0 0 0 0 0 0 0 0 ...\n",
      " $ hoursperweek : int  40 13 40 40 40 40 16 45 50 40 ...\n",
      " $ nativecountry: Factor w/ 42 levels \" ?\",\" Cambodia\",..: 40 40 40 40 6 40 24 40 40 40 ...\n",
      " $ response     : Factor w/ 2 levels \" <=50K\",\" >50K\": 1 1 1 1 1 1 1 2 2 2 ...\n"
     ]
    }
   ],
   "source": [
    "str(Data)#look at the structure of the dataset"
   ]
  },
  {
   "cell_type": "code",
   "execution_count": 9,
   "metadata": {
    "collapsed": true
   },
   "outputs": [],
   "source": [
    "Data<-Data[,c(1:13,15)]#remove the factor with more than 42 levels"
   ]
  },
  {
   "cell_type": "code",
   "execution_count": 10,
   "metadata": {
    "collapsed": true
   },
   "outputs": [],
   "source": [
    "set.seed(100)"
   ]
  },
  {
   "cell_type": "code",
   "execution_count": 11,
   "metadata": {
    "collapsed": true
   },
   "outputs": [],
   "source": [
    "train<-sample(1:nrow(Data),0.8*nrow(Data))"
   ]
  },
  {
   "cell_type": "code",
   "execution_count": 12,
   "metadata": {
    "collapsed": true
   },
   "outputs": [],
   "source": [
    "traindata<-Data[train,]"
   ]
  },
  {
   "cell_type": "code",
   "execution_count": 13,
   "metadata": {
    "collapsed": true
   },
   "outputs": [],
   "source": [
    "testdata<-Data[-train,]"
   ]
  },
  {
   "cell_type": "code",
   "execution_count": 14,
   "metadata": {
    "collapsed": false
   },
   "outputs": [
    {
     "data": {
      "text/html": [
       "<table>\n",
       "<thead><tr><th></th><th scope=col>age</th><th scope=col>workclass</th><th scope=col>fnlwgt</th><th scope=col>education</th><th scope=col>educationnum</th><th scope=col>maritalstatus</th><th scope=col>occupation</th><th scope=col>relationship</th><th scope=col>race</th><th scope=col>sex</th><th scope=col>capitalgain</th><th scope=col>capitalloss</th><th scope=col>hoursperweek</th><th scope=col>response</th></tr></thead>\n",
       "<tbody>\n",
       "\t<tr><th scope=row>10022</th><td>45</td><td> Private</td><td>161819</td><td> 11th</td><td>7</td><td> Separated</td><td> Adm-clerical</td><td> Unmarried</td><td> Black</td><td> Female</td><td>0</td><td>0</td><td>25</td><td> <=50K</td></tr>\n",
       "\t<tr><th scope=row>8390</th><td>24</td><td> Private</td><td>153082</td><td> HS-grad</td><td>9</td><td> Never-married</td><td> Sales</td><td> Not-in-family</td><td> White</td><td> Male</td><td>0</td><td>0</td><td>30</td><td> <=50K</td></tr>\n",
       "\t<tr><th scope=row>17984</th><td>33</td><td> Private</td><td>181091</td><td> 10th</td><td>6</td><td> Divorced</td><td> Craft-repair</td><td> Not-in-family</td><td> White</td><td> Male</td><td>0</td><td>0</td><td>35</td><td> <=50K</td></tr>\n",
       "\t<tr><th scope=row>1836</th><td>23</td><td> Private</td><td>64292</td><td> HS-grad</td><td>9</td><td> Never-married</td><td> Adm-clerical</td><td> Not-in-family</td><td> White</td><td> Female</td><td>0</td><td>0</td><td>40</td><td> <=50K</td></tr>\n",
       "\t<tr><th scope=row>15255</th><td>21</td><td> Private</td><td>347292</td><td> HS-grad</td><td>9</td><td> Never-married</td><td> Craft-repair</td><td> Not-in-family</td><td> White</td><td> Male</td><td>0</td><td>0</td><td>40</td><td> <=50K</td></tr>\n",
       "\t<tr><th scope=row>15750</th><td>49</td><td> Federal-gov</td><td>128990</td><td> Bachelors</td><td>13</td><td> Married-civ-spouse</td><td> Prof-specialty</td><td> Husband</td><td> White</td><td> Male</td><td>0</td><td>0</td><td>40</td><td> >50K</td></tr>\n",
       "</tbody>\n",
       "</table>\n"
      ],
      "text/latex": [
       "\\begin{tabular}{r|llllllllllllll}\n",
       "  & age & workclass & fnlwgt & education & educationnum & maritalstatus & occupation & relationship & race & sex & capitalgain & capitalloss & hoursperweek & response\\\\\n",
       "\\hline\n",
       "\t10022 & 45 &  Private & 161819 &  11th & 7 &  Separated &  Adm-clerical &  Unmarried &  Black &  Female & 0 & 0 & 25 &  <=50K\\\\\n",
       "\t8390 & 24 &  Private & 153082 &  HS-grad & 9 &  Never-married &  Sales &  Not-in-family &  White &  Male & 0 & 0 & 30 &  <=50K\\\\\n",
       "\t17984 & 33 &  Private & 181091 &  10th & 6 &  Divorced &  Craft-repair &  Not-in-family &  White &  Male & 0 & 0 & 35 &  <=50K\\\\\n",
       "\t1836 & 23 &  Private & 64292 &  HS-grad & 9 &  Never-married &  Adm-clerical &  Not-in-family &  White &  Female & 0 & 0 & 40 &  <=50K\\\\\n",
       "\t15255 & 21 &  Private & 347292 &  HS-grad & 9 &  Never-married &  Craft-repair &  Not-in-family &  White &  Male & 0 & 0 & 40 &  <=50K\\\\\n",
       "\t15750 & 49 &  Federal-gov & 128990 &  Bachelors & 13 &  Married-civ-spouse &  Prof-specialty &  Husband &  White &  Male & 0 & 0 & 40 &  >50K\\\\\n",
       "\\end{tabular}\n"
      ],
      "text/plain": [
       "      age    workclass fnlwgt  education educationnum       maritalstatus\n",
       "10022  45      Private 161819       11th            7           Separated\n",
       "8390   24      Private 153082    HS-grad            9       Never-married\n",
       "17984  33      Private 181091       10th            6            Divorced\n",
       "1836   23      Private  64292    HS-grad            9       Never-married\n",
       "15255  21      Private 347292    HS-grad            9       Never-married\n",
       "15750  49  Federal-gov 128990  Bachelors           13  Married-civ-spouse\n",
       "           occupation   relationship   race     sex capitalgain capitalloss\n",
       "10022    Adm-clerical      Unmarried  Black  Female           0           0\n",
       "8390            Sales  Not-in-family  White    Male           0           0\n",
       "17984    Craft-repair  Not-in-family  White    Male           0           0\n",
       "1836     Adm-clerical  Not-in-family  White  Female           0           0\n",
       "15255    Craft-repair  Not-in-family  White    Male           0           0\n",
       "15750  Prof-specialty        Husband  White    Male           0           0\n",
       "      hoursperweek response\n",
       "10022           25    <=50K\n",
       "8390            30    <=50K\n",
       "17984           35    <=50K\n",
       "1836            40    <=50K\n",
       "15255           40    <=50K\n",
       "15750           40     >50K"
      ]
     },
     "execution_count": 14,
     "metadata": {},
     "output_type": "execute_result"
    }
   ],
   "source": [
    "head(traindata)"
   ]
  },
  {
   "cell_type": "code",
   "execution_count": null,
   "metadata": {
    "collapsed": true
   },
   "outputs": [],
   "source": []
  }
 ],
 "metadata": {
  "kernelspec": {
   "display_name": "R",
   "language": "R",
   "name": "ir"
  },
  "language_info": {
   "codemirror_mode": "r",
   "file_extension": ".r",
   "mimetype": "text/x-r-source",
   "name": "R",
   "pygments_lexer": "r",
   "version": "3.2.3"
  }
 },
 "nbformat": 4,
 "nbformat_minor": 0
}
